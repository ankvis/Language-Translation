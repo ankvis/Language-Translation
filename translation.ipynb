{
 "cells": [
  {
   "cell_type": "markdown",
   "metadata": {},
   "source": [
    "### Imports"
   ]
  },
  {
   "cell_type": "code",
   "execution_count": 3,
   "metadata": {},
   "outputs": [],
   "source": [
    "import requests\n",
    "import bs4\n",
    "import openai\n",
    "import os"
   ]
  },
  {
   "cell_type": "markdown",
   "metadata": {},
   "source": [
    "### Get API key"
   ]
  },
  {
   "cell_type": "code",
   "execution_count": 4,
   "metadata": {},
   "outputs": [],
   "source": [
    "openai.api_key = os.getenv(\"OPENAI_API_KEY\")"
   ]
  },
  {
   "cell_type": "markdown",
   "metadata": {},
   "source": [
    "### Setup dictionary for foreign language news-url"
   ]
  },
  {
   "cell_type": "code",
   "execution_count": 42,
   "metadata": {},
   "outputs": [],
   "source": [
    "country = input(\"What country are you interested in for news?\")"
   ]
  },
  {
   "cell_type": "code",
   "execution_count": 43,
   "metadata": {},
   "outputs": [],
   "source": [
    "country_newspapers = {'Spain': 'https://elpais.com/', \n",
    "                      'France' : 'https://www.lemonde.fr/'}"
   ]
  },
  {
   "cell_type": "code",
   "execution_count": 44,
   "metadata": {},
   "outputs": [
    {
     "data": {
      "text/plain": [
       "'https://elpais.com/'"
      ]
     },
     "execution_count": 44,
     "metadata": {},
     "output_type": "execute_result"
    }
   ],
   "source": [
    "country_newspapers['Spain']"
   ]
  },
  {
   "cell_type": "code",
   "execution_count": 45,
   "metadata": {},
   "outputs": [],
   "source": [
    "url = country_newspapers['France']"
   ]
  },
  {
   "cell_type": "code",
   "execution_count": 46,
   "metadata": {},
   "outputs": [],
   "source": [
    "result = requests.get(url)"
   ]
  },
  {
   "cell_type": "code",
   "execution_count": 47,
   "metadata": {},
   "outputs": [],
   "source": [
    "#result.text"
   ]
  },
  {
   "cell_type": "code",
   "execution_count": 48,
   "metadata": {},
   "outputs": [],
   "source": [
    "tag = 'article__title-label'"
   ]
  },
  {
   "cell_type": "markdown",
   "metadata": {},
   "source": [
    "#### Extract text using beautiful soup"
   ]
  },
  {
   "cell_type": "code",
   "execution_count": 49,
   "metadata": {},
   "outputs": [],
   "source": [
    "soup = bs4.BeautifulSoup(result.text,'lxml')"
   ]
  },
  {
   "cell_type": "code",
   "execution_count": 50,
   "metadata": {},
   "outputs": [
    {
     "name": "stdout",
     "output_type": "stream",
     "text": [
      "Daniel Kretinsky, nouveau poids lourd de l’emploi en France\n",
      "Microsoft-Activision Blizzard : « La revanche de la Big Tech sur les “bidenomics” »\n",
      "Quelle prestation compensatoire pour les divorces homosexuels ?\n",
      "« Le changement climatique renforce les inégalités Nord-Sud dans une injustice insupportable »\n"
     ]
    }
   ],
   "source": [
    "for item in soup.select('.article__title')[:4]:\n",
    "    print(item.getText())"
   ]
  },
  {
   "cell_type": "markdown",
   "metadata": {},
   "source": [
    "### Add tag to the dictionary"
   ]
  },
  {
   "cell_type": "code",
   "execution_count": 51,
   "metadata": {},
   "outputs": [],
   "source": [
    "country_newspapers = {'Spain': ('https://elpais.com/', '.c_t'),\n",
    "                      'France': ('https://www.lemonde.fr/', '.article__title')}"
   ]
  },
  {
   "cell_type": "markdown",
   "metadata": {},
   "source": [
    "### Prompt creation"
   ]
  },
  {
   "cell_type": "code",
   "execution_count": 52,
   "metadata": {},
   "outputs": [],
   "source": [
    "def create_prompt():\n",
    "    country = input(\"What country would you like a news summary for?\")\n",
    "\n",
    "    try:\n",
    "        url, tag = country_newspapers[country]\n",
    "    except:\n",
    "        print(\"Not Supported\")\n",
    "        return \n",
    "    \n",
    "    results = requests.get(url)\n",
    "    soup = bs4.BeautifulSoup(results.text, 'lxml')\n",
    "\n",
    "    country_headlines=''\n",
    "    for item in soup.select(tag)[:3]:\n",
    "        country_headlines +=item.getText() +'\\n'\n",
    "\n",
    "    prompt = \"Detect the language of the news headlines below, then translate a summary of the headlines to English in a conversational tone. \\n\"\n",
    "\n",
    "    return prompt + country_headlines"
   ]
  },
  {
   "cell_type": "code",
   "execution_count": 66,
   "metadata": {},
   "outputs": [],
   "source": [
    "prompt = create_prompt()"
   ]
  },
  {
   "cell_type": "code",
   "execution_count": 68,
   "metadata": {},
   "outputs": [
    {
     "name": "stdout",
     "output_type": "stream",
     "text": [
      "Detect the language of the news headlines below, then translate a summary of the headlines to English in a conversational tone. \n",
      "DeSantis reconoce que Biden ganó las elecciones de 2020 y enmienda la plana a Trump: “Por supuesto que perdió” \n",
      "Argentina comienza a elegir a su próximo presidente\n",
      "El primer año de Gustavo Petro en cinco fotos: un viaje del optimismo al pesimismo\n",
      "\n"
     ]
    }
   ],
   "source": [
    "print(prompt)"
   ]
  },
  {
   "cell_type": "markdown",
   "metadata": {},
   "source": [
    "### OpenAI API Call"
   ]
  },
  {
   "cell_type": "code",
   "execution_count": 69,
   "metadata": {},
   "outputs": [],
   "source": [
    "response = openai.Completion.create(model='text-davinci-003',\n",
    "                                    prompt = prompt,\n",
    "                                    max_tokens=256,  \n",
    "                                    temperature = 0.1,\n",
    "                                    top_p=1.0)"
   ]
  },
  {
   "cell_type": "markdown",
   "metadata": {},
   "source": [
    "### Results"
   ]
  },
  {
   "cell_type": "code",
   "execution_count": 72,
   "metadata": {},
   "outputs": [
    {
     "name": "stdout",
     "output_type": "stream",
     "text": [
      "\n",
      "The first headline is in Spanish. It translates to: Governor DeSantis acknowledges that Biden won the 2020 elections and corrects Trump: \"Of course he lost\". \n",
      "\n",
      "The second headline is in Spanish. It translates to: Argentina begins to elect its next president. \n",
      "\n",
      "The third headline is in Spanish. It translates to: Gustavo Petro's first year in five photos: a journey from optimism to pessimism.\n"
     ]
    }
   ],
   "source": [
    "print(response['choices'][0]['text'])"
   ]
  },
  {
   "cell_type": "code",
   "execution_count": null,
   "metadata": {},
   "outputs": [],
   "source": []
  }
 ],
 "metadata": {
  "kernelspec": {
   "display_name": "base",
   "language": "python",
   "name": "python3"
  },
  "language_info": {
   "codemirror_mode": {
    "name": "ipython",
    "version": 3
   },
   "file_extension": ".py",
   "mimetype": "text/x-python",
   "name": "python",
   "nbconvert_exporter": "python",
   "pygments_lexer": "ipython3",
   "version": "3.11.3"
  },
  "orig_nbformat": 4
 },
 "nbformat": 4,
 "nbformat_minor": 2
}
